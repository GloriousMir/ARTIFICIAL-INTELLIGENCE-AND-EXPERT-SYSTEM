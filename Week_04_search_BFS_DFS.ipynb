{
  "cells": [
    {
      "cell_type": "markdown",
      "metadata": {
        "id": "view-in-github",
        "colab_type": "text"
      },
      "source": [
        "<a href=\"https://colab.research.google.com/github/GloriousMir/Python/blob/main/Week_04_search_BFS_DFS.ipynb\" target=\"_parent\"><img src=\"https://colab.research.google.com/assets/colab-badge.svg\" alt=\"Open In Colab\"/></a>"
      ]
    },
    {
      "cell_type": "markdown",
      "metadata": {
        "id": "4amd_onKg2Ct"
      },
      "source": [
        "![map.JPG](attachment:map.JPG)"
      ]
    },
    {
      "cell_type": "code",
      "execution_count": null,
      "metadata": {
        "id": "Sxth8LsCg2Cy"
      },
      "outputs": [],
      "source": [
        "romanian_map = {\n",
        "    'Arad': {'Sibiu':140, 'Zerind':75, 'Timisoara':118},\n",
        "    'Zerind': {'Arad':75, 'Oradea':71},\n",
        "    'Oradea': {'Zerind':71, 'Sibiu': 151},\n",
        "    'Sibiu': {'Arad':140, 'Oradea':151, 'Fagaras':99, 'Rimnicu':80},\n",
        "    'Timisoara': {'Arad': 118, 'Lugoj':111},\n",
        "    'Lugoj': {'Timisoara':111, 'Mehadia':70},\n",
        "    'Mehadia': {'Lugoj': 70, 'Drobeta':75},\n",
        "    'Drobeta': {'Mehadia':75, 'Craiova':120},\n",
        "    'Craiova': {'Drobeta': 120, 'Rimnicu': 146, 'Pitesti': 138},\n",
        "    'Rimnicu': {'Sibiu': 80, 'Craiova': 146, 'Pitesti': 97},\n",
        "    'Fagaras': {'Sibiu':99, 'Bucharest':211},\n",
        "    'Pitesti': {'Rimnicu': 97, 'Craiova':138, 'Bucharest':101},\n",
        "    'Bucharest': {'Fagaras':211, 'Pitesti': 101, 'Giurgiu':90, 'Urziceni':85},\n",
        "    'Giurgiu': {'Bucharest': 90},\n",
        "    'Urziceni': {'Bucharest': 85, 'Vaslui':142, 'Hirsova':98},\n",
        "    'Hirsova': {'Urziceni':98, 'Eforie':86},\n",
        "    'Eforie': {'Hirsova':86},\n",
        "    'Vaslui': {'Iasi': 92, 'Urziceni':142},\n",
        "    'Iasi': {'Vaslui':92, 'Neamt': 87},\n",
        "    'Neamt': {'Iasi':87}\n",
        "}"
      ]
    },
    {
      "cell_type": "code",
      "execution_count": null,
      "metadata": {
        "id": "1ChyG1eHg2C1",
        "outputId": "5150af02-a93e-4e3d-a9e5-43b94a6f40f2"
      },
      "outputs": [
        {
          "data": {
            "text/plain": [
              "{'Arad': 140, 'Oradea': 151, 'Fagaras': 99, 'Rimnicu': 80}"
            ]
          },
          "execution_count": 2,
          "metadata": {},
          "output_type": "execute_result"
        }
      ],
      "source": [
        "romanian_map['Sibiu']"
      ]
    },
    {
      "cell_type": "code",
      "execution_count": null,
      "metadata": {
        "id": "A0neOa99g2C2",
        "outputId": "c8cd594e-faa2-476a-ec6f-66744c9075a0"
      },
      "outputs": [
        {
          "data": {
            "text/plain": [
              "dict_keys(['Arad', 'Oradea', 'Fagaras', 'Rimnicu'])"
            ]
          },
          "execution_count": 3,
          "metadata": {},
          "output_type": "execute_result"
        }
      ],
      "source": [
        "romanian_map['Sibiu'].keys()"
      ]
    },
    {
      "cell_type": "code",
      "execution_count": null,
      "metadata": {
        "id": "5ChelJxyg2C3",
        "outputId": "afedd161-5c15-4083-da83-7203cee0efe3"
      },
      "outputs": [
        {
          "data": {
            "text/plain": [
              "151"
            ]
          },
          "execution_count": 4,
          "metadata": {},
          "output_type": "execute_result"
        }
      ],
      "source": [
        "romanian_map['Sibiu']['Oradea']"
      ]
    },
    {
      "cell_type": "code",
      "execution_count": null,
      "metadata": {
        "id": "N0HNoCuLg2C3",
        "outputId": "0bf010d5-b91d-483d-ebe8-89a3e0d939ab"
      },
      "outputs": [
        {
          "data": {
            "text/plain": [
              "dict_keys(['Arad', 'Zerind', 'Oradea', 'Sibiu', 'Timisoara', 'Lugoj', 'Mehadia', 'Drobeta', 'Craiova', 'Rimnicu', 'Fagaras', 'Pitesti', 'Bucharest', 'Giurgiu', 'Urziceni', 'Hirsova', 'Eforie', 'Vaslui', 'Iasi', 'Neamt'])"
            ]
          },
          "execution_count": 5,
          "metadata": {},
          "output_type": "execute_result"
        }
      ],
      "source": [
        "romanian_map.keys()"
      ]
    },
    {
      "cell_type": "markdown",
      "metadata": {
        "id": "21qAMDgbg2C4"
      },
      "source": [
        "# BFS"
      ]
    },
    {
      "cell_type": "code",
      "execution_count": null,
      "metadata": {
        "id": "xhJTc6qpg2C5"
      },
      "outputs": [],
      "source": [
        "def bfs(startingNode, destinationNode):\n",
        "    reached = [] # to store reached (generated) nodes\n",
        "    expand_sequence = [] # to store the order of nodes expanded\n",
        "    frontier = []\n",
        "\n",
        "    snode = {'City':startingNode,'Path cost':0, 'Path':[startingNode]}\n",
        "    frontier.append(snode)    # insert the starting node\n",
        "    reached.append(startingNode)\n",
        "    \n",
        "    while len(frontier) > 0:\n",
        "        unode = frontier.pop(0)     # selceting the node to expand\n",
        "        u = unode['City']\n",
        "        expand_sequence.append(u)\n",
        "        \n",
        "        # expand u\n",
        "        for v in romanian_map[u].keys():\n",
        "            if v not in reached: # process if v is not reached (generated) yet                \n",
        "                cost = unode['Path cost'] + romanian_map[u][v] \n",
        "                path =  unode['Path'] + [v]\n",
        "                vnode = {'City': v,'Path cost': cost,'Path': path}\n",
        "                frontier.append(vnode)# store the new child node in the frontier\n",
        "                reached.append(v)\n",
        "                # goal test\n",
        "                if v == destinationNode:\n",
        "                    print(vnode)\n",
        "                    print(expand_sequence)\n",
        "                    return vnode['Path'] # breaking from while\n",
        "    print('Failed')   "
      ]
    },
    {
      "cell_type": "code",
      "execution_count": null,
      "metadata": {
        "id": "gGux5fH9g2C6",
        "outputId": "69694267-d147-4332-f3c4-facf54861262"
      },
      "outputs": [
        {
          "name": "stdout",
          "output_type": "stream",
          "text": [
            "{'City': 'Pitesti', 'Path cost': 403, 'Path': ['Lugoj', 'Mehadia', 'Drobeta', 'Craiova', 'Pitesti']}\n",
            "['Lugoj', 'Timisoara', 'Mehadia', 'Arad', 'Drobeta', 'Sibiu', 'Zerind', 'Craiova']\n"
          ]
        },
        {
          "data": {
            "text/plain": [
              "['Lugoj', 'Mehadia', 'Drobeta', 'Craiova', 'Pitesti']"
            ]
          },
          "execution_count": 11,
          "metadata": {},
          "output_type": "execute_result"
        }
      ],
      "source": [
        "bfs('Lugoj', 'Pitesti') # change the soure and destination"
      ]
    },
    {
      "cell_type": "markdown",
      "metadata": {
        "id": "kukrkPhcg2C6"
      },
      "source": [
        ""
      ]
    },
    {
      "cell_type": "markdown",
      "metadata": {
        "id": "4qhRV-wDg2C7"
      },
      "source": [
        "# DFS\n",
        "Implement DFS using stack,\n",
        "Implement stack using list (append and pop) "
      ]
    },
    {
      "cell_type": "code",
      "execution_count": null,
      "metadata": {
        "id": "eNW-rMrkg2C7",
        "outputId": "0299cf08-bb2b-4e2d-e87d-5552ea9d4f56",
        "colab": {
          "base_uri": "https://localhost:8080/"
        }
      },
      "outputs": [
        {
          "output_type": "stream",
          "name": "stdout",
          "text": [
            "403\n",
            "['Lugoj', 'Mehadia', 'Drobeta', 'Craiova']\n"
          ]
        },
        {
          "output_type": "execute_result",
          "data": {
            "text/plain": [
              "['Lugoj', 'Mehadia', 'Drobeta', 'Craiova', 'Pitesti']"
            ]
          },
          "metadata": {},
          "execution_count": 3
        }
      ],
      "source": [
        "def dfs_paths(startingNode, destinationNode):\n",
        "    node = {'City':startingNode,'Distance':0, 'Path':[startingNode]}\n",
        "    stack = []\n",
        "    traversal_output = []\n",
        "    visited = {}\n",
        "    stack.append(node)\n",
        "    \n",
        "    for city in romanian_map.keys():\n",
        "        visited[city] = False\n",
        "        \n",
        "    while len(stack) != 0:\n",
        "        node = stack.pop()\n",
        "        u = node['City']\n",
        "        visited[u] = True\n",
        "        traversal_output.append(u)\n",
        "\n",
        "        for v in romanian_map[u].keys():\n",
        "            if not visited[v]:                \n",
        "                d = node['Distance'] + romanian_map[u][v]                \n",
        "                stack.append({'City':v,'Distance':d,'Path': node['Path']+[v]})\n",
        "                if v== destinationNode:\n",
        "                    print(d)\n",
        "                    print(traversal_output)\n",
        "                    return node['Path']+[v]\n",
        "\n",
        "dfs_paths('Lugoj', 'Pitesti')          "
      ]
    },
    {
      "cell_type": "markdown",
      "metadata": {
        "id": "QQD9Qrl5g2C8"
      },
      "source": [
        "# insert image here"
      ]
    }
  ],
  "metadata": {
    "kernelspec": {
      "display_name": "Python 3",
      "language": "python",
      "name": "python3"
    },
    "language_info": {
      "codemirror_mode": {
        "name": "ipython",
        "version": 3
      },
      "file_extension": ".py",
      "mimetype": "text/x-python",
      "name": "python",
      "nbconvert_exporter": "python",
      "pygments_lexer": "ipython3",
      "version": "3.8.8"
    },
    "colab": {
      "name": "Week-04-search-BFS-DFS.ipynb",
      "provenance": [],
      "include_colab_link": true
    }
  },
  "nbformat": 4,
  "nbformat_minor": 0
}