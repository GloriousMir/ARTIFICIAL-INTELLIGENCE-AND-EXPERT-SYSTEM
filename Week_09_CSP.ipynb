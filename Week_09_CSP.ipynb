{
  "cells": [
    {
      "cell_type": "markdown",
      "metadata": {
        "id": "view-in-github",
        "colab_type": "text"
      },
      "source": [
        "<a href=\"https://colab.research.google.com/github/GloriousMir/ARTIFICIAL-INTELLIGENCE-AND-EXPERT-SYSTEM/blob/main/Week_09_CSP.ipynb\" target=\"_parent\"><img src=\"https://colab.research.google.com/assets/colab-badge.svg\" alt=\"Open In Colab\"/></a>"
      ]
    },
    {
      "cell_type": "code",
      "execution_count": 7,
      "metadata": {
        "id": "hYW2TIWObnCK"
      },
      "outputs": [],
      "source": [
        "# Define a new cgraph\n",
        "cgraph = {'WA': ['SA', 'NT'], \n",
        "          'Q': ['SA', 'NT', 'NSW'], \n",
        "          'T': [],\n",
        "          'V': ['SA', 'NSW'], \n",
        "          'SA': ['WA', 'NT', 'Q', 'NSW','V'], \n",
        "          'NT': ['Q', 'WA', 'SA'], \n",
        "          'NSW': ['Q', 'V', 'SA']}"
      ]
    },
    {
      "cell_type": "code",
      "execution_count": 9,
      "metadata": {
        "id": "9O9871h6bnCN"
      },
      "outputs": [],
      "source": [
        "import random\n",
        "def get_color(node, rv, cg):\n",
        "    # CODE\n",
        "    # check rv[node] is empty or not when no color availabe\n",
        "    # return 'no color'\n",
        "    color = random.choice(rv[node])\n",
        "    rv.pop(node)\n",
        "    # update remaining values for neihbouring node\n",
        "    adjList = cg[node]\n",
        "    for adj in adjList:\n",
        "        if adj in rv.keys():\n",
        "            rv[adj].remove(color)\n",
        "    #print(adjList)\n",
        "    return color"
      ]
    },
    {
      "cell_type": "markdown",
      "metadata": {
        "id": "j8ywr8eQbnCN"
      },
      "source": [
        "## Highest Degree Node"
      ]
    },
    {
      "cell_type": "code",
      "execution_count": 10,
      "metadata": {
        "id": "hDpTD2onbnCO"
      },
      "outputs": [],
      "source": [
        "# write a method to get the highest degree node\n",
        "def get_hdnode(cg, solved):\n",
        "    mnode = ''\n",
        "    degree = -1\n",
        "    for k in cg.keys():\n",
        "        if len(cg[k])  > degree and k not in solved.keys():\n",
        "            #print(k)\n",
        "            degree = len(cg[k])\n",
        "            mnode = k\n",
        "    return mnode"
      ]
    },
    {
      "cell_type": "markdown",
      "metadata": {
        "id": "ylzC1XBQbnCP"
      },
      "source": [
        "Color the nodes using Highest degree heuristic"
      ]
    },
    {
      "cell_type": "code",
      "execution_count": 11,
      "metadata": {
        "colab": {
          "base_uri": "https://localhost:8080/"
        },
        "id": "iHlkL3lJbnCP",
        "outputId": "5b8e3861-d43a-4588-f1a8-e2618a0960d4"
      },
      "outputs": [
        {
          "output_type": "stream",
          "name": "stdout",
          "text": [
            "assigned: {'SA': 'G'}\n",
            "rv: {'WA': ['R', 'B'], 'Q': ['R', 'B'], 'T': ['R', 'G', 'B'], 'V': ['R', 'B'], 'NT': ['R', 'B'], 'NSW': ['R', 'B']}\n",
            "assigned: {'SA': 'G', 'Q': 'R'}\n",
            "rv: {'WA': ['R', 'B'], 'T': ['R', 'G', 'B'], 'V': ['R', 'B'], 'NT': ['B'], 'NSW': ['B']}\n",
            "assigned: {'SA': 'G', 'Q': 'R', 'NT': 'B'}\n",
            "rv: {'WA': ['R'], 'T': ['R', 'G', 'B'], 'V': ['R', 'B'], 'NSW': ['B']}\n",
            "assigned: {'SA': 'G', 'Q': 'R', 'NT': 'B', 'NSW': 'B'}\n",
            "rv: {'WA': ['R'], 'T': ['R', 'G', 'B'], 'V': ['R']}\n",
            "assigned: {'SA': 'G', 'Q': 'R', 'NT': 'B', 'NSW': 'B', 'WA': 'R'}\n",
            "rv: {'T': ['R', 'G', 'B'], 'V': ['R']}\n",
            "assigned: {'SA': 'G', 'Q': 'R', 'NT': 'B', 'NSW': 'B', 'WA': 'R', 'V': 'R'}\n",
            "rv: {'T': ['R', 'G', 'B']}\n",
            "assigned: {'SA': 'G', 'Q': 'R', 'NT': 'B', 'NSW': 'B', 'WA': 'R', 'V': 'R', 'T': 'B'}\n",
            "rv: {}\n"
          ]
        }
      ],
      "source": [
        "assigned = {} # store assigned variables with colors\n",
        "remainingValues = {'WA': ['R','G','B'], \n",
        "                    'Q': ['R','G','B'],\n",
        "                    'T': ['R','G','B'],\n",
        "                    'V':  ['R','G','B'], \n",
        "                    'NT': ['R','G','B'],\n",
        "                    'SA': ['R','G','B'],                    \n",
        "                    'NSW': ['R','G','B']}\n",
        "\n",
        "for i in range(len(cgraph)):\n",
        "    # assign color to the highest degree node\n",
        "    hdNode = get_hdnode(cgraph, assigned)\n",
        "    color = get_color(hdNode, remainingValues, cgraph)\n",
        "    # CODE\n",
        "    # check if 'no color' is returned\n",
        "    # print failure\n",
        "\n",
        "    assigned[hdNode]= color\n",
        "    print('assigned: ', end=\"\")\n",
        "    print(assigned)\n",
        "    print('rv: ', end=\"\")\n",
        "    print(remainingValues)\n"
      ]
    },
    {
      "cell_type": "markdown",
      "metadata": {
        "id": "c7h2vdiTbnCQ"
      },
      "source": [
        "## Minimum Remaining Value"
      ]
    },
    {
      "cell_type": "code",
      "execution_count": 12,
      "metadata": {
        "id": "zYiGg6q1bnCQ",
        "scrolled": true
      },
      "outputs": [],
      "source": [
        "   # define a method to select a node by MRV\n",
        "def get_MRVnode(rv, solved):\n",
        "    # CODE\n",
        "    MRVnode = ''\n",
        "    val = 4\n",
        "    for k in rv.keys():\n",
        "        if len(rv[k])  <= val and k not in solved.keys():\n",
        "            val = len(rv[k])\n",
        "            MRVnode = k\n",
        "    return MRVnode"
      ]
    },
    {
      "cell_type": "markdown",
      "metadata": {
        "id": "4CHiqApobnCR"
      },
      "source": [
        "Color the nodes using MRV heuristic"
      ]
    },
    {
      "cell_type": "code",
      "execution_count": 13,
      "metadata": {
        "id": "-WkGNPrsbnCR",
        "colab": {
          "base_uri": "https://localhost:8080/"
        },
        "outputId": "86776760-740b-44ac-a1f8-572c9cb8deb2"
      },
      "outputs": [
        {
          "output_type": "stream",
          "name": "stdout",
          "text": [
            "{'WA': ['R', 'G', 'B'], 'Q': ['R', 'G'], 'T': ['R', 'G', 'B'], 'V': ['R', 'G'], 'NT': ['R', 'G', 'B'], 'SA': ['R', 'G']}\n",
            "{'NSW': 'B'}\n",
            "{'WA': ['R', 'B'], 'Q': ['R'], 'T': ['R', 'G', 'B'], 'V': ['R'], 'NT': ['R', 'B']}\n",
            "{'NSW': 'B', 'SA': 'G'}\n",
            "{'WA': ['R', 'B'], 'Q': ['R'], 'T': ['R', 'G', 'B'], 'NT': ['R', 'B']}\n",
            "{'NSW': 'B', 'SA': 'G', 'V': 'R'}\n",
            "{'WA': ['R', 'B'], 'T': ['R', 'G', 'B'], 'NT': ['B']}\n",
            "{'NSW': 'B', 'SA': 'G', 'V': 'R', 'Q': 'R'}\n",
            "{'WA': ['R'], 'T': ['R', 'G', 'B']}\n",
            "{'NSW': 'B', 'SA': 'G', 'V': 'R', 'Q': 'R', 'NT': 'B'}\n",
            "{'T': ['R', 'G', 'B']}\n",
            "{'NSW': 'B', 'SA': 'G', 'V': 'R', 'Q': 'R', 'NT': 'B', 'WA': 'R'}\n",
            "{}\n",
            "{'NSW': 'B', 'SA': 'G', 'V': 'R', 'Q': 'R', 'NT': 'B', 'WA': 'R', 'T': 'B'}\n"
          ]
        }
      ],
      "source": [
        "assigned = {}\n",
        "\n",
        "remainingValues = {'WA': ['R','G','B'], \n",
        "                    'Q': ['R','G','B'],\n",
        "                    'T': ['R','G','B'],\n",
        "                    'V':  ['R','G','B'], \n",
        "                    'NT': ['R','G','B'],\n",
        "                    'SA': ['R','G','B'],                    \n",
        "                    'NSW': ['R','G','B']}\n",
        "\n",
        "for i in range(len(cgraph)):\n",
        "    # assign color to the highest degree node\n",
        "    mrvNode = get_MRVnode(remainingValues, assigned)\n",
        "    color = get_color(mrvNode, remainingValues, cgraph)\n",
        "    # CODE\n",
        "    # check if 'no color' is returned\n",
        "    # print failure\n",
        "\n",
        "    assigned[mrvNode]= color\n",
        "    print(remainingValues)\n",
        "    print(assigned)"
      ]
    },
    {
      "cell_type": "code",
      "execution_count": null,
      "metadata": {
        "id": "CYxQpzhEbnCS"
      },
      "outputs": [],
      "source": [
        ""
      ]
    }
  ],
  "metadata": {
    "colab": {
      "collapsed_sections": [],
      "name": "Week 09 CSP.ipynb",
      "provenance": [],
      "include_colab_link": true
    },
    "kernelspec": {
      "display_name": "Python 3 (ipykernel)",
      "language": "python",
      "name": "python3"
    },
    "language_info": {
      "codemirror_mode": {
        "name": "ipython",
        "version": 3
      },
      "file_extension": ".py",
      "mimetype": "text/x-python",
      "name": "python",
      "nbconvert_exporter": "python",
      "pygments_lexer": "ipython3",
      "version": "3.9.7"
    }
  },
  "nbformat": 4,
  "nbformat_minor": 0
}