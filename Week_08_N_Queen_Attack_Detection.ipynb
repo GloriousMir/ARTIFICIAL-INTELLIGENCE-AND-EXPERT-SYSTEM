{
  "cells": [
    {
      "cell_type": "markdown",
      "metadata": {
        "id": "view-in-github",
        "colab_type": "text"
      },
      "source": [
        "<a href=\"https://colab.research.google.com/github/GloriousMir/ARTIFICIAL-INTELLIGENCE-AND-EXPERT-SYSTEM/blob/main/Week_08_N_Queen_Attack_Detection.ipynb\" target=\"_parent\"><img src=\"https://colab.research.google.com/assets/colab-badge.svg\" alt=\"Open In Colab\"/></a>"
      ]
    },
    {
      "cell_type": "markdown",
      "metadata": {
        "id": "i9cjHABdo20A"
      },
      "source": [
        "# N Queen Attack Detection"
      ]
    },
    {
      "cell_type": "code",
      "execution_count": null,
      "metadata": {
        "id": "i8_FUZYg17Dy"
      },
      "outputs": [],
      "source": [
        "def drawBoard(P):\n",
        "  N = len(P)\n",
        "  for i in range(1,N+1):\n",
        "    print(\"|\", end=\"\")\n",
        "    for j in range(1,N+1):\n",
        "      if (i,j) in P:\n",
        "        ind = str(1+ P.index((i,j)))\n",
        "        print(\" \"+ind+\" |\", end= \"\")\n",
        "      else:\n",
        "        print(\" * |\", end= \"\")\n",
        "    print()"
      ]
    },
    {
      "cell_type": "code",
      "execution_count": null,
      "metadata": {
        "colab": {
          "base_uri": "https://localhost:8080/"
        },
        "id": "4nAKG_sr78Va",
        "outputId": "c5e7e46f-d1cb-4ab7-af00-3e1d39e6848b"
      },
      "outputs": [
        {
          "output_type": "stream",
          "name": "stdout",
          "text": [
            "Q1: 4,3\n",
            "Q2: 1,1\n",
            "Q3: 4,2\n",
            "Q4: 3,4\n"
          ]
        },
        {
          "output_type": "execute_result",
          "data": {
            "text/plain": [
              "[(4, 3), (1, 1), (4, 2), (3, 4)]"
            ]
          },
          "metadata": {},
          "execution_count": 3
        }
      ],
      "source": [
        "from math import ceil\n",
        "import random\n",
        "def generate_positions(N):\n",
        "    CL = list(range(0,N*N));\n",
        "    P = []\n",
        "    for i in range(N):\n",
        "        p = random.choice(CL)\n",
        "        CL.remove(p)\n",
        "        r = ceil((p+1)/N)\n",
        "        c = 1+p%N\n",
        "        P.append((r,c))\n",
        "        print('Q{}: {},{}'.format(i+1,r,c))\n",
        "    return P\n",
        "\n",
        "generate_positions(4)"
      ]
    },
    {
      "cell_type": "code",
      "execution_count": null,
      "metadata": {
        "colab": {
          "base_uri": "https://localhost:8080/"
        },
        "id": "2dvDEqqTo20L",
        "outputId": "971386ea-cda5-44c4-dd95-396ee72bc613"
      },
      "outputs": [
        {
          "output_type": "stream",
          "name": "stdout",
          "text": [
            "Q1: 2,3\n",
            "Q2: 4,4\n",
            "Q3: 3,3\n",
            "Q4: 2,1\n",
            "| * | * | * | * |\n",
            "| 4 | * | 1 | * |\n",
            "| * | * | 3 | * |\n",
            "| * | * | * | 2 |\n"
          ]
        }
      ],
      "source": [
        "N = 4\n",
        "positions = generate_positions(N)\n",
        "drawBoard(positions)"
      ]
    },
    {
      "cell_type": "code",
      "execution_count": null,
      "metadata": {
        "colab": {
          "base_uri": "https://localhost:8080/"
        },
        "id": "IEMPCDhEo20N",
        "outputId": "b8930072-c891-41ea-a1d5-9a3ce885836e"
      },
      "outputs": [
        {
          "output_type": "stream",
          "name": "stdout",
          "text": [
            "row attack: (2, 3), (2, 1)\n"
          ]
        },
        {
          "output_type": "execute_result",
          "data": {
            "text/plain": [
              "1"
            ]
          },
          "metadata": {},
          "execution_count": 5
        }
      ],
      "source": [
        "# row attack\n",
        "def rowAttacK(P):\n",
        "  count = 0\n",
        "  for i in range(N):\n",
        "    for j in range(i+1,N):\n",
        "      if P[i][0] == P[j][0]:\n",
        "        print('row attack:', end = \" \" )\n",
        "        print(P[i], end = \", \")\n",
        "        print(P[j]) \n",
        "        count = count + 1 \n",
        "  return count\n",
        "\n",
        "rowAttacK(positions)   "
      ]
    },
    {
      "cell_type": "code",
      "execution_count": 7,
      "metadata": {
        "id": "KLBRaUNOo20O"
      },
      "outputs": [],
      "source": [
        "#column attack\n",
        "def columnAttack(N):\n",
        "    flag = False\n",
        "    print('\\ncolumn attack: (if any)')\n",
        "    for i in range(0,N):\n",
        "        for j in range(i+1,N):\n",
        "            if(c[i] == c[j]):\n",
        "                flag = True\n",
        "                print(f'column:{c[i]} row:{r[i]} and {r[j]}')\n",
        "    return flag "
      ]
    },
    {
      "cell_type": "code",
      "execution_count": 8,
      "metadata": {
        "id": "Bmw-Teqio20P"
      },
      "outputs": [],
      "source": [
        "# diagonal atack\n",
        "def diagonalattack(r, c, N):\n",
        "    flag = False\n",
        "    print('\\ndiagonal attack: (if any)')\n",
        "    for i in range(0,N):\n",
        "        for j in range(i+1,N):\n",
        "            if(r[i]-r[j] == c[i]-c[j]):\n",
        "                flag = True\n",
        "                print(f'row:{r[i]} column:{c[i]} and row:{r[j]} column:{c[j]}')\n",
        "    return flag"
      ]
    },
    {
      "cell_type": "code",
      "execution_count": null,
      "metadata": {
        "id": "1hQCBWSoo20Q"
      },
      "outputs": [],
      "source": [
        "# implement a method to print a state is valid or not\n",
        "# input row and col (two lists)"
      ]
    },
    {
      "cell_type": "code",
      "source": [
        "def is_attack(i, j, board, N):\n",
        "  # checking for column j\n",
        "  for k in range(1, i):\n",
        "    if(board[k][j] == 1):\n",
        "      return True\n",
        "\n",
        "  # checking upper right diagonal\n",
        "  k = i-1\n",
        "  l = j+1\n",
        "  while (k>=1 and l<=N):\n",
        "    if (board[k][l] == 1):\n",
        "      return True\n",
        "    k=k+1\n",
        "    l=l+1\n",
        "\n",
        "  # checking upper left diagonal\n",
        "  k = i-1\n",
        "  l = j-1\n",
        "  while (k>=1 and l>=1):\n",
        "    if (board[k][l] == 1):\n",
        "      return True\n",
        "    k=k-1\n",
        "    l=l-1\n",
        "\n",
        "  return False\n",
        "\n",
        "def n_queen(row, n, N, board):\n",
        "  if (n==0):\n",
        "    return True\n",
        "\n",
        "  for j in range(1, N+1):\n",
        "    if(not(is_attack(row, j, board, N))):\n",
        "      board[row][j] = 1\n",
        "\n",
        "      if (n_queen(row+1, n-1, N, board)):\n",
        "        return True\n",
        "\n",
        "      board[row][j] = 0 #backtracking\n",
        "  return False\n",
        "\n",
        "if __name__ == '__main__':\n",
        "  board = [[0,0,0,0,0],[0,0,0,0,0],[0,0,0,0,0],[0,0,0,0,0],[0,0,0,0,0]]\n",
        "\n",
        "  n_queen(1, 4, 4, board)\n",
        "\n",
        "  #printing the matix\n",
        "  for i in range(1, 5):\n",
        "      print(board[i][1:])"
      ],
      "metadata": {
        "colab": {
          "base_uri": "https://localhost:8080/"
        },
        "id": "9YgOVisjNK_J",
        "outputId": "6f85715c-8f98-40c0-fde2-955dc069049f"
      },
      "execution_count": null,
      "outputs": [
        {
          "output_type": "stream",
          "name": "stdout",
          "text": [
            "[0, 1, 0, 0]\n",
            "[0, 0, 0, 1]\n",
            "[1, 0, 0, 0]\n",
            "[0, 0, 1, 0]\n"
          ]
        }
      ]
    }
  ],
  "metadata": {
    "colab": {
      "collapsed_sections": [],
      "name": "Week 08 N Queen Attack Detection.ipynb",
      "provenance": [],
      "include_colab_link": true
    },
    "kernelspec": {
      "display_name": "Python 3 (ipykernel)",
      "language": "python",
      "name": "python3"
    },
    "language_info": {
      "codemirror_mode": {
        "name": "ipython",
        "version": 3
      },
      "file_extension": ".py",
      "mimetype": "text/x-python",
      "name": "python",
      "nbconvert_exporter": "python",
      "pygments_lexer": "ipython3",
      "version": "3.9.7"
    }
  },
  "nbformat": 4,
  "nbformat_minor": 0
}