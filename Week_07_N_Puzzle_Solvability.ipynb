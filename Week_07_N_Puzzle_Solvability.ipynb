{
  "cells": [
    {
      "cell_type": "markdown",
      "metadata": {
        "id": "view-in-github",
        "colab_type": "text"
      },
      "source": [
        "<a href=\"https://colab.research.google.com/github/GloriousMir/ARTIFICIAL-INTELLIGENCE-AND-EXPERT-SYSTEM/blob/main/Week_07_N_Puzzle_Solvability.ipynb\" target=\"_parent\"><img src=\"https://colab.research.google.com/assets/colab-badge.svg\" alt=\"Open In Colab\"/></a>"
      ]
    },
    {
      "cell_type": "markdown",
      "metadata": {
        "id": "nz8Q6nBSaf7k"
      },
      "source": [
        "###### To solve a puzzle, you are given an initial state and a goal state.\n",
        "###### Target is to reach goal state from initial state using puzzle rules.\n",
        "######  We can move blank tile only on left, right, up, and down\n",
        "![Capture.JPG](attachment:Capture.JPG)"
      ]
    },
    {
      "cell_type": "markdown",
      "metadata": {
        "id": "SaqziTVFaf7s"
      },
      "source": [
        "# Generate an intial state of NPuzzle"
      ]
    },
    {
      "cell_type": "code",
      "execution_count": 5,
      "metadata": {
        "id": "iTX34gUNaf7t",
        "scrolled": true
      },
      "outputs": [],
      "source": [
        "import numpy as np\n",
        "import random\n",
        "def get_state(N):    \n",
        "    state = [item for item in range(N*N)]# [0,1,2,...,15]\n",
        "    #print(state)\n",
        "    random.shuffle(state)\n",
        "    #print(state)\n",
        "    tmp = np.array(state)\n",
        "    print(tmp.reshape(N,N))\n",
        "    return state"
      ]
    },
    {
      "cell_type": "code",
      "execution_count": 6,
      "metadata": {
        "colab": {
          "base_uri": "https://localhost:8080/"
        },
        "id": "QKTU1E1Iaf7v",
        "outputId": "4405a6d1-0f92-428b-ae20-15600788bdfa"
      },
      "outputs": [
        {
          "output_type": "stream",
          "name": "stdout",
          "text": [
            "[[3 8 2]\n",
            " [5 1 4]\n",
            " [0 6 7]]\n"
          ]
        },
        {
          "output_type": "execute_result",
          "data": {
            "text/plain": [
              "[3, 8, 2, 5, 1, 4, 0, 6, 7]"
            ]
          },
          "metadata": {},
          "execution_count": 6
        }
      ],
      "source": [
        "get_state(3)"
      ]
    },
    {
      "cell_type": "markdown",
      "metadata": {
        "id": "3hD4ieUaaf7x"
      },
      "source": [
        "# Calculate inversion"
      ]
    },
    {
      "cell_type": "markdown",
      "metadata": {
        "id": "CkoMv0C8af7y"
      },
      "source": [
        "Inversion is a pair of tiles that are in the reverse order from where they ought to be. In our case, the bigger number is in front of the smaller one.\n",
        "\n"
      ]
    },
    {
      "cell_type": "markdown",
      "metadata": {
        "id": "JcfDN45Caf7y"
      },
      "source": [
        "![Capture.JPG](attachment:Capture.JPG)"
      ]
    },
    {
      "cell_type": "code",
      "execution_count": 7,
      "metadata": {
        "id": "-W9FOmneaf7z"
      },
      "outputs": [],
      "source": [
        "def count_inversion(state):\n",
        "    #arr = [i for i in arr if i !=0]\n",
        "    print(state)\n",
        "    inversion = []\n",
        "    for i in range(len(state)):    \n",
        "        count = 0\n",
        "        for j in range(i+1,len(state)):        \n",
        "            if state[i] > state[j]: \n",
        "                count = count + 1\n",
        "        inversion.append(count)\n",
        "    #print(inversion)\n",
        "    return sum(inversion)"
      ]
    },
    {
      "cell_type": "code",
      "execution_count": 8,
      "metadata": {
        "colab": {
          "base_uri": "https://localhost:8080/"
        },
        "id": "sWAiuZfjaf71",
        "outputId": "7d6c3ae7-6865-44d5-fa24-2298f16dfbb5"
      },
      "outputs": [
        {
          "output_type": "stream",
          "name": "stdout",
          "text": [
            "[[14 13  2  8]\n",
            " [12  1  5  6]\n",
            " [10  4 11  0]\n",
            " [ 9  3  7 15]]\n",
            "[14, 13, 2, 8, 12, 1, 5, 6, 10, 4, 11, 0, 9, 3, 7, 15]\n"
          ]
        },
        {
          "output_type": "execute_result",
          "data": {
            "text/plain": [
              "66"
            ]
          },
          "metadata": {},
          "execution_count": 8
        }
      ],
      "source": [
        "s = get_state(4)\n",
        "count_inversion(s)"
      ]
    },
    {
      "cell_type": "markdown",
      "metadata": {
        "id": "EDn9_ODN1RFU"
      },
      "source": [
        "# **Find blank row**"
      ]
    },
    {
      "cell_type": "code",
      "execution_count": 24,
      "metadata": {
        "id": "R7-N-A6Oaf76",
        "colab": {
          "base_uri": "https://localhost:8080/",
          "height": 135
        },
        "outputId": "d6b5d498-486b-4551-f9fd-8254f29f8c13"
      },
      "outputs": [
        {
          "output_type": "error",
          "ename": "SyntaxError",
          "evalue": "ignored",
          "traceback": [
            "\u001b[0;36m  File \u001b[0;32m\"<ipython-input-24-9be3a9b4127e>\"\u001b[0;36m, line \u001b[0;32m2\u001b[0m\n\u001b[0;31m    def get_blank_row(state):\u001b[0m\n\u001b[0m                             ^\u001b[0m\n\u001b[0;31mSyntaxError\u001b[0m\u001b[0;31m:\u001b[0m unexpected EOF while parsing\n"
          ]
        }
      ],
      "source": [
        "# find row position of the blank tile\n",
        "def get_blank_row(state):\n"
      ]
    },
    {
      "cell_type": "markdown",
      "metadata": {
        "id": "8bTLG_ZQaf73"
      },
      "source": [
        "# Solvability Rules"
      ]
    },
    {
      "cell_type": "code",
      "execution_count": 34,
      "metadata": {
        "id": "0ciw2n-uaf77"
      },
      "outputs": [],
      "source": [
        "# apply the rules to decide solvability\n",
        "#  N, I, R\n",
        "# define a method to return solvability (input S)\n",
        "# return True if solvable or False if not\n",
        "\n",
        "def getInvCount(arr):\n",
        "\tinv_count = 0\n",
        "\tempty_value = -1\n",
        "\tfor i in range(0, 9):\n",
        "\t\tfor j in range(i + 1, 9):\n",
        "\t\t\tif arr[j] != empty_value and arr[i] != empty_value and arr[i] > arr[j]:\n",
        "\t\t\t\tinv_count += 1\n",
        "\treturn inv_count\n",
        "\n",
        "\t\n",
        "import math\n",
        "def isSolvable(initialState):\n",
        "    N = math.sqrt(len(initialState))\n",
        "    I = count_inversion(initialState)\n",
        "    R = int(np.ceil(N - initialState.index(0)/N))\n",
        "    print(N)\n",
        "    print(R)\n",
        "    print(I)\n",
        "    # decide solvability\n",
        "    if N%2 != 0 and I%2 == 0:\n",
        "        print(\"Solvable\")\n",
        "\n",
        "    elif N%2==0 and R%2!=0 and I%2 == 0:\n",
        "        print(\"Solvable\")\n",
        "\n",
        "    elif N%2==0 and R%2==0 and I%2 != 0:\n",
        "        print(\"Solvable\")\n",
        "        \n",
        "    else:\n",
        "        print(\"Not Solvable\")\n",
        "\t"
      ]
    },
    {
      "cell_type": "code",
      "execution_count": 33,
      "metadata": {
        "id": "u2TGpQfNhnP2",
        "colab": {
          "base_uri": "https://localhost:8080/"
        },
        "outputId": "f352fc43-806b-4572-9a52-e8ef7ba6a2c6"
      },
      "outputs": [
        {
          "output_type": "stream",
          "name": "stdout",
          "text": [
            "[[6 0 7]\n",
            " [2 3 8]\n",
            " [4 1 5]]\n",
            "[6, 0, 7, 2, 3, 8, 4, 1, 5]\n",
            "3.0\n",
            "3\n",
            "17\n",
            "Not Solvable\n"
          ]
        }
      ],
      "source": [
        "N= 3\n",
        "S = get_state(N)\n",
        "isSolvable(S)\n"
      ]
    }
  ],
  "metadata": {
    "colab": {
      "collapsed_sections": [],
      "name": "Week 07 N Puzzle Solvability.ipynb",
      "provenance": [],
      "include_colab_link": true
    },
    "kernelspec": {
      "display_name": "Python 3 (ipykernel)",
      "language": "python",
      "name": "python3"
    },
    "language_info": {
      "codemirror_mode": {
        "name": "ipython",
        "version": 3
      },
      "file_extension": ".py",
      "mimetype": "text/x-python",
      "name": "python",
      "nbconvert_exporter": "python",
      "pygments_lexer": "ipython3",
      "version": "3.9.7"
    }
  },
  "nbformat": 4,
  "nbformat_minor": 0
}