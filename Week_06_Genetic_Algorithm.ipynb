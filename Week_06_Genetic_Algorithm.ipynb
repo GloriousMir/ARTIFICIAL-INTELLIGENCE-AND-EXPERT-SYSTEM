{
  "cells": [
    {
      "cell_type": "markdown",
      "metadata": {
        "id": "view-in-github",
        "colab_type": "text"
      },
      "source": [
        "<a href=\"https://colab.research.google.com/github/GloriousMir/Python/blob/main/Week_06_Genetic_Algorithm.ipynb\" target=\"_parent\"><img src=\"https://colab.research.google.com/assets/colab-badge.svg\" alt=\"Open In Colab\"/></a>"
      ]
    },
    {
      "cell_type": "markdown",
      "metadata": {
        "id": "O5x7T2XxRqdv"
      },
      "source": [
        "### Problem: Maximize f(x) = x^3-11x^2+150 when x = 0 to 255"
      ]
    },
    {
      "cell_type": "markdown",
      "metadata": {
        "id": "ywY6mjLkRqd2"
      },
      "source": [
        "Representation or ecoding solution:\n",
        "x can be represented using 8 bits binary number."
      ]
    },
    {
      "cell_type": "markdown",
      "metadata": {
        "id": "h_AzBq1MRqd3"
      },
      "source": [
        "# Step 1: Initialize Population"
      ]
    },
    {
      "cell_type": "code",
      "execution_count": 16,
      "metadata": {
        "_cell_guid": "b1076dfc-b9ad-4769-8c92-a6c4dae69d19",
        "_uuid": "8f2839f25d086af736a60e9eeb907d3b93b6e0e5",
        "id": "1bOfcsluRqd4"
      },
      "outputs": [],
      "source": [
        "import random\n",
        "def initPopulation(b, n =10): # n is the number of solutions, b is the length\n",
        "    p = [] # to store solution set/ initial population\n",
        "    for i in range(n):\n",
        "        s = [] # to store a solution as a list\n",
        "        for j in range(b):\n",
        "            s.append(random.choice([0,1]))    \n",
        "        p.append(s)\n",
        "    return p"
      ]
    },
    {
      "cell_type": "code",
      "execution_count": 17,
      "metadata": {
        "colab": {
          "base_uri": "https://localhost:8080/"
        },
        "id": "xqpElpd6Rqd7",
        "outputId": "5555c617-ffc0-4dbf-9f07-c96a5afb58aa"
      },
      "outputs": [
        {
          "output_type": "execute_result",
          "data": {
            "text/plain": [
              "[[0, 0, 1, 0, 1, 0, 0, 1],\n",
              " [0, 1, 0, 1, 0, 0, 1, 0],\n",
              " [0, 0, 0, 1, 0, 0, 0, 1],\n",
              " [1, 0, 1, 1, 0, 0, 0, 1],\n",
              " [1, 1, 0, 0, 0, 1, 1, 0],\n",
              " [0, 0, 1, 0, 1, 1, 0, 1],\n",
              " [1, 1, 0, 1, 0, 0, 0, 1],\n",
              " [1, 0, 1, 1, 1, 1, 0, 1],\n",
              " [0, 0, 1, 0, 0, 0, 1, 0],\n",
              " [1, 1, 0, 0, 0, 0, 1, 0],\n",
              " [1, 0, 1, 1, 1, 1, 1, 0],\n",
              " [0, 1, 0, 1, 1, 0, 1, 1]]"
            ]
          },
          "metadata": {},
          "execution_count": 17
        }
      ],
      "source": [
        "population = initPopulation(8,12)\n",
        "population"
      ]
    },
    {
      "cell_type": "markdown",
      "metadata": {
        "id": "295Y_a8JRqd8"
      },
      "source": [
        "# Step 2: Reproduction or Parent Selection"
      ]
    },
    {
      "cell_type": "markdown",
      "metadata": {
        "id": "Q-2xm1Y0Rqd9"
      },
      "source": [
        "Fitness Calculation"
      ]
    },
    {
      "cell_type": "code",
      "execution_count": 18,
      "metadata": {
        "id": "GeSnMD0hRqd_"
      },
      "outputs": [],
      "source": [
        "def getFitness(p): # p is the whole population\n",
        "    f = [] # to store fitness values\n",
        "    for sol in p:\n",
        "        d = 0 # decimel value\n",
        "        b = len(sol)\n",
        "        for i in range(b-1,-1,-1): # binary to decimel\n",
        "            d = d + sol[i]*2**(b-1-i)\n",
        "        #print(d)\n",
        "        v = d**3 - 11*d**2 + 150\n",
        "        if v< 0: f.append(0)\n",
        "        else: f.append(v) # fitness function\n",
        "    return f"
      ]
    },
    {
      "cell_type": "code",
      "execution_count": 19,
      "metadata": {
        "colab": {
          "base_uri": "https://localhost:8080/"
        },
        "id": "bDE-fRdFRqeB",
        "outputId": "e05686ee-0fde-457f-c9c5-a5bce2f0c98a"
      },
      "outputs": [
        {
          "output_type": "execute_result",
          "data": {
            "text/plain": [
              "[50580,\n",
              " 477554,\n",
              " 1884,\n",
              " 5200764,\n",
              " 7331298,\n",
              " 69000,\n",
              " 8648988,\n",
              " 6358488,\n",
              " 26738,\n",
              " 6887538,\n",
              " 6462050,\n",
              " 662630]"
            ]
          },
          "metadata": {},
          "execution_count": 19
        }
      ],
      "source": [
        "getFitness(population)"
      ]
    },
    {
      "cell_type": "markdown",
      "metadata": {
        "id": "MuyfwGTDRqeC"
      },
      "source": [
        "calculate probability and select parents"
      ]
    },
    {
      "cell_type": "code",
      "execution_count": 20,
      "metadata": {
        "id": "lK4uQOsrRqeC"
      },
      "outputs": [],
      "source": [
        "def select_parent(n, pop): # probability, parent selection\n",
        "    # probability\n",
        "    fitness = getFitness(pop)\n",
        "    total_fitness = sum(fitness)\n",
        "    prob = [round(f/total_fitness,3) for f in fitness]\n",
        "    # parent selection\n",
        "    parents = []\n",
        "    for i in range(n):\n",
        "        # roullete wheel, generate a random number\n",
        "        #r = random.choice(range(1,1001,1))/1000\n",
        "        r = random.random()\n",
        "        #print(r)\n",
        "        lim = 0\n",
        "        # check bin number of r\n",
        "        for j in range(len(prob)):\n",
        "            lim = lim + prob[j]\n",
        "            if r <= lim :#checking the bin\n",
        "                print(j)\n",
        "                parents.append(pop[j])\n",
        "                break\n",
        "    return parents"
      ]
    },
    {
      "cell_type": "code",
      "execution_count": 21,
      "metadata": {
        "colab": {
          "base_uri": "https://localhost:8080/"
        },
        "id": "3-lCH3ZoRqeD",
        "outputId": "d8146868-891e-4a41-851a-7923d48dd586"
      },
      "outputs": [
        {
          "output_type": "stream",
          "name": "stdout",
          "text": [
            "9\n",
            "4\n",
            "3\n",
            "10\n",
            "10\n",
            "6\n"
          ]
        }
      ],
      "source": [
        "parents = select_parent(6, population)"
      ]
    },
    {
      "cell_type": "markdown",
      "metadata": {
        "id": "HTf2wgA_RqeE"
      },
      "source": [
        "# Step 3: Crossover"
      ]
    },
    {
      "cell_type": "code",
      "execution_count": 22,
      "metadata": {
        "id": "PwgF2uv6RqeF"
      },
      "outputs": [],
      "source": [
        "# define a method crossover (input is parents set)\n",
        "def cross(p):\n",
        "  num_cross = int(len(p)/2)\n",
        "  print(num_cross)\n",
        "  offsprings = []\n",
        "  #  for loop to perform crossovers\n",
        "  for i in range(num_cross):\n",
        "   cp = random.choice(range(3,6))\n",
        "   print(cp)\n",
        "   # perform crossover\n",
        "   x,y = p[0],p[1]\n",
        "   off1 = x[:cp] + y[cp:]\n",
        "   offsprings.append(off1)\n",
        "\n",
        "  return offsprings"
      ]
    },
    {
      "cell_type": "code",
      "source": [
        "off = cross(parents)\n",
        "off"
      ],
      "metadata": {
        "colab": {
          "base_uri": "https://localhost:8080/"
        },
        "id": "gNH0V9eRRGHy",
        "outputId": "5ffcce71-0229-44b5-9a59-206d57b15fc6"
      },
      "execution_count": 23,
      "outputs": [
        {
          "output_type": "stream",
          "name": "stdout",
          "text": [
            "3\n",
            "4\n",
            "4\n",
            "3\n"
          ]
        },
        {
          "output_type": "execute_result",
          "data": {
            "text/plain": [
              "[[1, 1, 0, 0, 0, 1, 1, 0], [1, 1, 0, 0, 0, 1, 1, 0], [1, 1, 0, 0, 0, 1, 1, 0]]"
            ]
          },
          "metadata": {},
          "execution_count": 23
        }
      ]
    },
    {
      "cell_type": "markdown",
      "metadata": {
        "id": "Zx8t0GLTRqeG"
      },
      "source": [
        "# Step 4: Select Survivor\n",
        "The selected survivors (solutions) will be added to population"
      ]
    },
    {
      "cell_type": "markdown",
      "metadata": {
        "id": "aTh52_9WRqeG"
      },
      "source": [
        "Select top 2 offspring based on fitness value and add them to population."
      ]
    },
    {
      "cell_type": "markdown",
      "metadata": {
        "id": "yUUSEWOXRqeH"
      },
      "source": [
        "Repeat Step 2 to 4 for further iterations"
      ]
    },
    {
      "cell_type": "code",
      "execution_count": 24,
      "metadata": {
        "id": "MhgbFzZHRqeH"
      },
      "outputs": [],
      "source": [
        "# define a method to select top offsprings (input offsprings, top)\n",
        "def select_survivor(offsp):\n",
        "  topOffsp = []\n",
        "  f = getFitness(offsp)\n",
        "  mInd = f.index(max(f))\n",
        "  topOffsp.append(offsp[mInd])\n",
        "  return topOffsp"
      ]
    },
    {
      "cell_type": "code",
      "source": [
        "select_survivor(off)"
      ],
      "metadata": {
        "colab": {
          "base_uri": "https://localhost:8080/"
        },
        "id": "9_-3CouTRm7E",
        "outputId": "794ca879-4999-44d6-bdf8-9579af807b5b"
      },
      "execution_count": 25,
      "outputs": [
        {
          "output_type": "execute_result",
          "data": {
            "text/plain": [
              "[[1, 1, 0, 0, 0, 1, 1, 0]]"
            ]
          },
          "metadata": {},
          "execution_count": 25
        }
      ]
    },
    {
      "cell_type": "markdown",
      "source": [
        "# **Complete iteration**"
      ],
      "metadata": {
        "id": "G4tLqF-TRyS5"
      }
    },
    {
      "cell_type": "code",
      "source": [
        "populations = initPopulation(8,30)\n",
        "parents = select_parent(10, populations)\n",
        "offsprings = cross(parents)\n",
        "survivors = select_survivor(offsprings)\n",
        "updatedPopulation = population + survivors\n",
        "updatedPopulation"
      ],
      "metadata": {
        "colab": {
          "base_uri": "https://localhost:8080/"
        },
        "id": "fIOX062HPMSc",
        "outputId": "bc5af7a4-4986-4dfe-b2e0-682243169fdf"
      },
      "execution_count": 26,
      "outputs": [
        {
          "output_type": "stream",
          "name": "stdout",
          "text": [
            "14\n",
            "20\n",
            "14\n",
            "28\n",
            "18\n",
            "18\n",
            "9\n",
            "14\n",
            "14\n",
            "25\n",
            "5\n",
            "4\n",
            "3\n",
            "3\n",
            "5\n",
            "4\n"
          ]
        },
        {
          "output_type": "execute_result",
          "data": {
            "text/plain": [
              "[[0, 0, 1, 0, 1, 0, 0, 1],\n",
              " [0, 1, 0, 1, 0, 0, 1, 0],\n",
              " [0, 0, 0, 1, 0, 0, 0, 1],\n",
              " [1, 0, 1, 1, 0, 0, 0, 1],\n",
              " [1, 1, 0, 0, 0, 1, 1, 0],\n",
              " [0, 0, 1, 0, 1, 1, 0, 1],\n",
              " [1, 1, 0, 1, 0, 0, 0, 1],\n",
              " [1, 0, 1, 1, 1, 1, 0, 1],\n",
              " [0, 0, 1, 0, 0, 0, 1, 0],\n",
              " [1, 1, 0, 0, 0, 0, 1, 0],\n",
              " [1, 0, 1, 1, 1, 1, 1, 0],\n",
              " [0, 1, 0, 1, 1, 0, 1, 1],\n",
              " [1, 1, 1, 1, 1, 1, 1, 1]]"
            ]
          },
          "metadata": {},
          "execution_count": 26
        }
      ]
    },
    {
      "cell_type": "code",
      "source": [
        "import numpy as np\n",
        "v =np.array( [2,5,8,3,7,4])\n",
        "print(v.argsort())\n",
        "ind = v.argsort()[-1:-3:-1]\n",
        "list(ind)"
      ],
      "metadata": {
        "colab": {
          "base_uri": "https://localhost:8080/"
        },
        "id": "KljS3ns1tOSW",
        "outputId": "d3b2e10f-ba77-44ae-ec4f-d1df0b8396cc"
      },
      "execution_count": 27,
      "outputs": [
        {
          "output_type": "stream",
          "name": "stdout",
          "text": [
            "[0 3 5 1 4 2]\n"
          ]
        },
        {
          "output_type": "execute_result",
          "data": {
            "text/plain": [
              "[2, 4]"
            ]
          },
          "metadata": {},
          "execution_count": 27
        }
      ]
    },
    {
      "cell_type": "code",
      "source": [
        "import random\n",
        "def initPopulation(n,b):\n",
        " p={}\n",
        " for i in range(n):\n",
        "   s=[]\n",
        "   for j in range(b):\n",
        "     s.append(random.choice([0,1]))   \n",
        "   p[i]=s\n",
        " return p"
      ],
      "metadata": {
        "id": "9WXKAf3EpLm1"
      },
      "execution_count": 28,
      "outputs": []
    },
    {
      "cell_type": "code",
      "source": [
        "population=initPopulation(6,5)\n",
        "population"
      ],
      "metadata": {
        "colab": {
          "base_uri": "https://localhost:8080/"
        },
        "id": "OF67yei-sDFj",
        "outputId": "8bc89a33-494a-46cf-f9d2-a048d12d8e10"
      },
      "execution_count": 29,
      "outputs": [
        {
          "output_type": "execute_result",
          "data": {
            "text/plain": [
              "{0: [1, 1, 1, 0, 0],\n",
              " 1: [1, 1, 1, 0, 0],\n",
              " 2: [1, 1, 1, 1, 0],\n",
              " 3: [1, 1, 1, 1, 0],\n",
              " 4: [1, 1, 1, 1, 1],\n",
              " 5: [1, 0, 0, 0, 1]}"
            ]
          },
          "metadata": {},
          "execution_count": 29
        }
      ]
    },
    {
      "cell_type": "code",
      "source": [
        "sampleLst = [i for i in range(4,-1,-1)]\n",
        "# [4, 3, 2, 1, 0]\n",
        "def getFitness(p):\n",
        "  f=[]\n",
        "  for k in range():\n",
        "     d = 0\n",
        "     b = len(p[k])\n",
        "  for i in range(b-1,-1,-1):\n",
        "         d = d+p[k][i]2*(b-1-i)\n",
        "         f.append(d**2)\n",
        "         return f\n",
        "  fitness = getFitness(population)\n",
        "  print(\"fitness: \",fitness)"
      ],
      "metadata": {
        "colab": {
          "base_uri": "https://localhost:8080/",
          "height": 135
        },
        "id": "DW8Lr9vBpxD9",
        "outputId": "b8b88f8e-34a4-4577-8587-f05596997479"
      },
      "execution_count": 30,
      "outputs": [
        {
          "output_type": "error",
          "ename": "SyntaxError",
          "evalue": "ignored",
          "traceback": [
            "\u001b[0;36m  File \u001b[0;32m\"<ipython-input-30-14f629b8e411>\"\u001b[0;36m, line \u001b[0;32m9\u001b[0m\n\u001b[0;31m    d = d+p[k][i]2*(b-1-i)\u001b[0m\n\u001b[0m                 ^\u001b[0m\n\u001b[0;31mSyntaxError\u001b[0m\u001b[0;31m:\u001b[0m invalid syntax\n"
          ]
        }
      ]
    },
    {
      "cell_type": "code",
      "source": [
        "cp = random.choice(range(1,5))\n",
        "print(\"cp: \", cp)"
      ],
      "metadata": {
        "colab": {
          "base_uri": "https://localhost:8080/"
        },
        "id": "nTDtEVRdqXel",
        "outputId": "fce00730-9bcc-490b-d55e-28b8aba1863e"
      },
      "execution_count": 38,
      "outputs": [
        {
          "output_type": "stream",
          "name": "stdout",
          "text": [
            "cp:  4\n"
          ]
        }
      ]
    },
    {
      "cell_type": "code",
      "source": [
        "def survivor(f, p):\n",
        " fd = {}\n",
        "for i in range(len(fd)):\n",
        "    fd[i] = f[i]\n",
        "    fd = sorted(fd.items(), key=lambda x: x[1], reverse=True)\n",
        "    sp = {}\n",
        "for i in range(2):\n",
        "       x, y = fd[i]\n",
        "       sp[i] = p[x]\n",
        "return sp\n",
        "sp = survivor(fitness, population)\n",
        "print(\"Survived set: \",sp)"
      ],
      "metadata": {
        "colab": {
          "base_uri": "https://localhost:8080/",
          "height": 245
        },
        "id": "4LjpKDqOrc4y",
        "outputId": "001e0b0c-c9f4-4efb-ef8a-ad21d3efeaf0"
      },
      "execution_count": 47,
      "outputs": [
        {
          "output_type": "error",
          "ename": "NameError",
          "evalue": "ignored",
          "traceback": [
            "\u001b[0;31m---------------------------------------------------------------------------\u001b[0m",
            "\u001b[0;31mNameError\u001b[0m                                 Traceback (most recent call last)",
            "\u001b[0;32m<ipython-input-47-b19856cb426c>\u001b[0m in \u001b[0;36m<module>\u001b[0;34m()\u001b[0m\n\u001b[1;32m      1\u001b[0m \u001b[0;32mdef\u001b[0m \u001b[0msurvivor\u001b[0m\u001b[0;34m(\u001b[0m\u001b[0mf\u001b[0m\u001b[0;34m,\u001b[0m \u001b[0mp\u001b[0m\u001b[0;34m)\u001b[0m\u001b[0;34m:\u001b[0m\u001b[0;34m\u001b[0m\u001b[0;34m\u001b[0m\u001b[0m\n\u001b[1;32m      2\u001b[0m  \u001b[0mfd\u001b[0m \u001b[0;34m=\u001b[0m \u001b[0;34m{\u001b[0m\u001b[0;34m}\u001b[0m\u001b[0;34m\u001b[0m\u001b[0;34m\u001b[0m\u001b[0m\n\u001b[0;32m----> 3\u001b[0;31m \u001b[0;32mfor\u001b[0m \u001b[0mi\u001b[0m \u001b[0;32min\u001b[0m \u001b[0mrange\u001b[0m\u001b[0;34m(\u001b[0m\u001b[0mlen\u001b[0m\u001b[0;34m(\u001b[0m\u001b[0mfd\u001b[0m\u001b[0;34m)\u001b[0m\u001b[0;34m)\u001b[0m\u001b[0;34m:\u001b[0m\u001b[0;34m\u001b[0m\u001b[0;34m\u001b[0m\u001b[0m\n\u001b[0m\u001b[1;32m      4\u001b[0m     \u001b[0mfd\u001b[0m\u001b[0;34m[\u001b[0m\u001b[0mi\u001b[0m\u001b[0;34m]\u001b[0m \u001b[0;34m=\u001b[0m \u001b[0mf\u001b[0m\u001b[0;34m[\u001b[0m\u001b[0mi\u001b[0m\u001b[0;34m]\u001b[0m\u001b[0;34m\u001b[0m\u001b[0;34m\u001b[0m\u001b[0m\n\u001b[1;32m      5\u001b[0m     \u001b[0mfd\u001b[0m \u001b[0;34m=\u001b[0m \u001b[0msorted\u001b[0m\u001b[0;34m(\u001b[0m\u001b[0mfd\u001b[0m\u001b[0;34m.\u001b[0m\u001b[0mitems\u001b[0m\u001b[0;34m(\u001b[0m\u001b[0;34m)\u001b[0m\u001b[0;34m,\u001b[0m \u001b[0mkey\u001b[0m\u001b[0;34m=\u001b[0m\u001b[0;32mlambda\u001b[0m \u001b[0mx\u001b[0m\u001b[0;34m:\u001b[0m \u001b[0mx\u001b[0m\u001b[0;34m[\u001b[0m\u001b[0;36m1\u001b[0m\u001b[0;34m]\u001b[0m\u001b[0;34m,\u001b[0m \u001b[0mreverse\u001b[0m\u001b[0;34m=\u001b[0m\u001b[0;32mTrue\u001b[0m\u001b[0;34m)\u001b[0m\u001b[0;34m\u001b[0m\u001b[0;34m\u001b[0m\u001b[0m\n",
            "\u001b[0;31mNameError\u001b[0m: name 'fd' is not defined"
          ]
        }
      ]
    }
  ],
  "metadata": {
    "kernelspec": {
      "display_name": "Python 3",
      "language": "python",
      "name": "python3"
    },
    "language_info": {
      "codemirror_mode": {
        "name": "ipython",
        "version": 3
      },
      "file_extension": ".py",
      "mimetype": "text/x-python",
      "name": "python",
      "nbconvert_exporter": "python",
      "pygments_lexer": "ipython3",
      "version": "3.8.5"
    },
    "colab": {
      "name": "Week 06 Genetic Algorithm.ipynb",
      "provenance": [],
      "collapsed_sections": [],
      "include_colab_link": true
    }
  },
  "nbformat": 4,
  "nbformat_minor": 0
}